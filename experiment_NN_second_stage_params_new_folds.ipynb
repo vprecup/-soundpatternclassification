{
 "cells": [
  {
   "cell_type": "code",
   "execution_count": 1,
   "metadata": {},
   "outputs": [],
   "source": [
    "import numpy as np\n",
    "import pandas as pd\n",
    "from sklearn.decomposition import PCA\n",
    "from sklearn import metrics\n",
    "from sklearn.neural_network import MLPClassifier\n",
    "from sklearn.preprocessing import *\n",
    "from scipy.stats import itemfreq\n",
    "from sklearn.metrics import accuracy_score"
   ]
  },
  {
   "cell_type": "code",
   "execution_count": 2,
   "metadata": {},
   "outputs": [],
   "source": [
    "fold_1 = np.load('./unshape/fold1_unshape.npy')\n",
    "target_1 = np.load('./unshape/fold1_class_unshape.npy')"
   ]
  },
  {
   "cell_type": "code",
   "execution_count": 3,
   "metadata": {},
   "outputs": [],
   "source": [
    "fold_2 = np.load('./unshape/fold2_unshape.npy')\n",
    "target_2 = np.load('./unshape/fold2_class_unshape.npy')"
   ]
  },
  {
   "cell_type": "code",
   "execution_count": 4,
   "metadata": {},
   "outputs": [],
   "source": [
    "fold_3 = np.load('./unshape/fold3_unshape.npy')\n",
    "target_3 = np.load('./unshape/fold3_class_unshape.npy')"
   ]
  },
  {
   "cell_type": "code",
   "execution_count": 5,
   "metadata": {},
   "outputs": [],
   "source": [
    "fold_4 = np.load('./unshape/fold4_unshape.npy')\n",
    "target_4 = np.load('./unshape/fold4_class_unshape.npy')"
   ]
  },
  {
   "cell_type": "code",
   "execution_count": 6,
   "metadata": {},
   "outputs": [],
   "source": [
    "train = pd.DataFrame(np.concatenate((fold_1,fold_2,fold_3), axis=0))\n",
    "target = np.concatenate((target_1,target_2,target_3), axis=0)"
   ]
  },
  {
   "cell_type": "code",
   "execution_count": 7,
   "metadata": {},
   "outputs": [],
   "source": [
    "net = MLPClassifier(activation='relu', solver='adam', learning_rate_init=0.003, \n",
    "                    alpha=2e-5, hidden_layer_sizes=(180,120,60), random_state=1)\n",
    "\n",
    "scaler = RobustScaler()"
   ]
  },
  {
   "cell_type": "code",
   "execution_count": 8,
   "metadata": {},
   "outputs": [],
   "source": [
    "scaler.fit(train)\n",
    "train_norm = scaler.transform(train)"
   ]
  },
  {
   "cell_type": "code",
   "execution_count": 9,
   "metadata": {},
   "outputs": [
    {
     "data": {
      "text/plain": [
       "MLPClassifier(activation='relu', alpha=2e-05, batch_size='auto', beta_1=0.9,\n",
       "       beta_2=0.999, early_stopping=False, epsilon=1e-08,\n",
       "       hidden_layer_sizes=(180, 120, 60), learning_rate='constant',\n",
       "       learning_rate_init=0.003, max_iter=200, momentum=0.9,\n",
       "       nesterovs_momentum=True, power_t=0.5, random_state=1, shuffle=True,\n",
       "       solver='adam', tol=0.0001, validation_fraction=0.1, verbose=False,\n",
       "       warm_start=False)"
      ]
     },
     "execution_count": 9,
     "metadata": {},
     "output_type": "execute_result"
    }
   ],
   "source": [
    "net.fit(train_norm, target)"
   ]
  },
  {
   "cell_type": "code",
   "execution_count": 10,
   "metadata": {},
   "outputs": [],
   "source": [
    "with open('./fold4_evaluate_revise.txt') as f:\n",
    "    lines = f.readlines()"
   ]
  },
  {
   "cell_type": "code",
   "execution_count": 11,
   "metadata": {},
   "outputs": [],
   "source": [
    "class2num = {\"class\":     {\"bus\": 0, \"cafe/restaurant\": 1, \"car\": 2, \"city_center\": 3, \"forest_path\": 4, \n",
    "                              \"grocery_store\": 5, \"home\": 6, \"beach\": 7, \"library\": 8, \"metro_station\": 9, \n",
    "                              \"office\": 10, \"residential_area\": 11, \"train\": 12, \"tram\": 13, \"park\": 14}}"
   ]
  },
  {
   "cell_type": "code",
   "execution_count": 12,
   "metadata": {},
   "outputs": [],
   "source": [
    "y_true = np.empty(shape=[0,1])\n",
    "y_pred = np.empty(shape=[0,1])"
   ]
  },
  {
   "cell_type": "code",
   "execution_count": 13,
   "metadata": {},
   "outputs": [],
   "source": [
    "for line in lines:\n",
    "    description = line.split('\\t')\n",
    "    \n",
    "    ## decoding class to string\n",
    "    description[1] = description[1].replace('\\n', '')\n",
    "    \n",
    "    ## convert string to numerical value\n",
    "    description[1] = class2num[\"class\"][description[1]]\n",
    "    \n",
    "    ## append true value\n",
    "    y_true = np.append(y_true, description[1])\n",
    "    \n",
    "    ## import data\n",
    "    try:\n",
    "        data = np.load('./DCASE2017_development_set/mfcc_numpy/' + description[0])\n",
    "    except:\n",
    "        print(\"ERROR\")\n",
    "        \n",
    "    ## convert to data frame\n",
    "    df = pd.DataFrame(data)\n",
    "    df = df.T\n",
    "    \n",
    "    ## prediction\n",
    "    df = scaler.transform(df)\n",
    "    predicts = net.predict(df)\n",
    "    \n",
    "    ## voting\n",
    "    pred_cnt = itemfreq(predicts)\n",
    "    voting_result = pred_cnt[pred_cnt[:,1].argsort()][-1,0]\n",
    "    \n",
    "    ## append voting result\n",
    "    y_pred = np.append(y_pred, voting_result)"
   ]
  },
  {
   "cell_type": "code",
   "execution_count": 14,
   "metadata": {},
   "outputs": [],
   "source": [
    "acc = accuracy_score(y_true, y_pred)"
   ]
  },
  {
   "cell_type": "code",
   "execution_count": 15,
   "metadata": {},
   "outputs": [
    {
     "data": {
      "text/plain": [
       "0.7051282051282052"
      ]
     },
     "execution_count": 15,
     "metadata": {},
     "output_type": "execute_result"
    }
   ],
   "source": [
    "acc"
   ]
  },
  {
   "cell_type": "code",
   "execution_count": 17,
   "metadata": {},
   "outputs": [],
   "source": [
    "train_final = np.append(train, fold_4, axis=0)\n",
    "\n",
    "target_final = np.append(target, target_4, axis=0)"
   ]
  },
  {
   "cell_type": "code",
   "execution_count": 19,
   "metadata": {},
   "outputs": [],
   "source": [
    "net_final = MLPClassifier(activation='relu', solver='adam', learning_rate_init=0.003, \n",
    "                    alpha=2e-5, hidden_layer_sizes=(180,120,60), random_state=1)\n",
    "scaler_final = RobustScaler()\n",
    "scaler_final.fit(train_final)\n",
    "train_norm_final = scaler_final.transform(train_final)\n"
   ]
  },
  {
   "cell_type": "code",
   "execution_count": 20,
   "metadata": {},
   "outputs": [
    {
     "data": {
      "text/plain": [
       "MLPClassifier(activation='relu', alpha=2e-05, batch_size='auto', beta_1=0.9,\n",
       "       beta_2=0.999, early_stopping=False, epsilon=1e-08,\n",
       "       hidden_layer_sizes=(180, 120, 60), learning_rate='constant',\n",
       "       learning_rate_init=0.003, max_iter=200, momentum=0.9,\n",
       "       nesterovs_momentum=True, power_t=0.5, random_state=1, shuffle=True,\n",
       "       solver='adam', tol=0.0001, validation_fraction=0.1, verbose=False,\n",
       "       warm_start=False)"
      ]
     },
     "execution_count": 20,
     "metadata": {},
     "output_type": "execute_result"
    }
   ],
   "source": [
    "net_final.fit(train_norm_final, target_final)"
   ]
  },
  {
   "cell_type": "markdown",
   "metadata": {},
   "source": [
    "need to be changed to the right format "
   ]
  },
  {
   "cell_type": "code",
   "execution_count": 31,
   "metadata": {},
   "outputs": [],
   "source": [
    "for i in range(1,1620):\n",
    "    evaluation_example = np.load('./mfcc_d/'+str(i)+'.npy')\n",
    "    df = pd.DataFrame(evaluation_example)\n",
    "    df = df.T\n",
    "    df = scaler_final.transform(df)\n",
    "    predicts = net_final.predict(df)\n",
    "    pred_cnt = itemfreq(predicts)\n",
    "    voting_result = pred_cnt[pred_cnt[:,1].argsort()][-1,0]\n",
    "    with open('results.txt', 'a') as the_file:\n",
    "        the_file.write(str(voting_result)+\"\\n\")"
   ]
  },
  {
   "cell_type": "code",
   "execution_count": null,
   "metadata": {},
   "outputs": [],
   "source": []
  }
 ],
 "metadata": {
  "kernelspec": {
   "display_name": "Python 3",
   "language": "python",
   "name": "python3"
  },
  "language_info": {
   "codemirror_mode": {
    "name": "ipython",
    "version": 3
   },
   "file_extension": ".py",
   "mimetype": "text/x-python",
   "name": "python",
   "nbconvert_exporter": "python",
   "pygments_lexer": "ipython3",
   "version": "3.6.5"
  }
 },
 "nbformat": 4,
 "nbformat_minor": 2
}
